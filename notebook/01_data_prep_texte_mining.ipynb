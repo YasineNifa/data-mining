{
 "cells": [
  {
   "cell_type": "code",
   "execution_count": 1,
   "metadata": {},
   "outputs": [],
   "source": [
    "#import of the training text data\n",
    "import json\n",
    "import re\n",
    "\n",
    "data = []\n",
    "\n",
    "#load the raw dataset\n",
    "json_data=open('D:/mlds_data/text_mining/projet/train/asthma_4000_samples.json').readlines()\n",
    "for i in json_data:\n",
    "    #extrat only the raw data(the article text)\n",
    "    data.append(json.loads(i)['raw']) \n",
    "    \n",
    "json_data=open('D:/mlds_data/text_mining/projet/train/autism_3000_samples.json').readlines()\n",
    "for i in json_data:\n",
    "    data.append(json.loads(i)['raw']) "
   ]
  },
  {
   "cell_type": "code",
   "execution_count": 2,
   "metadata": {},
   "outputs": [],
   "source": [
    "# import of GENE list and Disiease List \n",
    "import csv\n",
    "\n",
    "#load the gene database liste\n",
    "with open('D:/mlds_data/text_mining/projet/GENE/GENE_LIST.csv', 'r') as f:\n",
    "    reader = csv.reader(f)\n",
    "    gene_list = []\n",
    "    for i in reader:\n",
    "        gene_list.append(i[0])\n",
    "        \n",
    "#load the Disease database liste\n",
    "with open('D:/mlds_data/text_mining/projet/DISEASE/DISEASE_LIST.csv', 'r') as f:\n",
    "    reader = csv.reader(f)\n",
    "    disease_list = []\n",
    "    for i in reader:\n",
    "        disease_list.append(i[0])\n",
    "\n",
    "\n",
    "        \n",
    "# preparing the training datasets with the entities GENE and DISEASE location in each document text, \n",
    "import re\n",
    "\n",
    "TRAIN_DATA=[]\n",
    "for i in data:\n",
    "    entities =[]\n",
    "    \n",
    "    for gene in gene_list:\n",
    "        for m in re.finditer(gene, i):\n",
    "            entities.append((m.start(), m.end(), 'GENE'))\n",
    "    \n",
    "    for dis in disease_list:\n",
    "        for m in re.finditer(dis, i):\n",
    "            entities.append((m.start(), m.end(), 'DISEASE'))\n",
    "\n",
    "    \n",
    "    #keep only documents with at least one identified entities\n",
    "    if len(entities)>0:\n",
    "        train_row = (i,{'entities' : entities}) \n",
    "        TRAIN_DATA.append(train_row)\n",
    "    \n",
    "    \n",
    "\n",
    "    \n",
    "#save the prepared data in serilyzed format\n",
    "import pickle\n",
    "\n",
    "with open(\"D:/mlds_data/text_mining/projet/prepared_data/cleaned_data_V1x.txt\", \"wb\") as fp:   #Pickling\n",
    "    pickle.dump(TRAIN_DATA, fp)\n"
   ]
  }
 ],
 "metadata": {
  "kernelspec": {
   "display_name": "Python 3",
   "language": "python",
   "name": "python3"
  },
  "language_info": {
   "codemirror_mode": {
    "name": "ipython",
    "version": 3
   },
   "file_extension": ".py",
   "mimetype": "text/x-python",
   "name": "python",
   "nbconvert_exporter": "python",
   "pygments_lexer": "ipython3",
   "version": "3.6.9"
  }
 },
 "nbformat": 4,
 "nbformat_minor": 2
}
